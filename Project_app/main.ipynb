{
 "cells": [
  {
   "cell_type": "code",
   "execution_count": 2,
   "id": "2511ede0",
   "metadata": {},
   "outputs": [],
   "source": [
    "import pandas as pd\n",
    "import numpy as np\n",
    "from sklearn.model_selection import train_test_split\n",
    "from sklearn.linear_model import LinearRegression\n",
    "from sklearn.metrics import mean_squared_error, r2_score\n",
    "\n",
    "import traceback\n",
    "import sys\n",
    "import warnings\n",
    "warnings.filterwarnings('ignore')\n",
    "import seaborn as sns\n",
    "import matplotlib.pyplot as plt\n"
   ]
  },
  {
   "cell_type": "code",
   "execution_count": 3,
   "id": "b95dc147",
   "metadata": {},
   "outputs": [
    {
     "data": {
      "text/html": [
       "<div>\n",
       "<style scoped>\n",
       "    .dataframe tbody tr th:only-of-type {\n",
       "        vertical-align: middle;\n",
       "    }\n",
       "\n",
       "    .dataframe tbody tr th {\n",
       "        vertical-align: top;\n",
       "    }\n",
       "\n",
       "    .dataframe thead th {\n",
       "        text-align: right;\n",
       "    }\n",
       "</style>\n",
       "<table border=\"1\" class=\"dataframe\">\n",
       "  <thead>\n",
       "    <tr style=\"text-align: right;\">\n",
       "      <th></th>\n",
       "      <th>age</th>\n",
       "      <th>sex</th>\n",
       "      <th>bmi</th>\n",
       "      <th>children</th>\n",
       "      <th>smoker</th>\n",
       "      <th>region</th>\n",
       "      <th>charges</th>\n",
       "    </tr>\n",
       "  </thead>\n",
       "  <tbody>\n",
       "    <tr>\n",
       "      <th>0</th>\n",
       "      <td>19</td>\n",
       "      <td>female</td>\n",
       "      <td>27.900</td>\n",
       "      <td>0</td>\n",
       "      <td>yes</td>\n",
       "      <td>southwest</td>\n",
       "      <td>16884.92400</td>\n",
       "    </tr>\n",
       "    <tr>\n",
       "      <th>1</th>\n",
       "      <td>18</td>\n",
       "      <td>male</td>\n",
       "      <td>33.770</td>\n",
       "      <td>1</td>\n",
       "      <td>no</td>\n",
       "      <td>southeast</td>\n",
       "      <td>1725.55230</td>\n",
       "    </tr>\n",
       "    <tr>\n",
       "      <th>2</th>\n",
       "      <td>28</td>\n",
       "      <td>male</td>\n",
       "      <td>33.000</td>\n",
       "      <td>3</td>\n",
       "      <td>no</td>\n",
       "      <td>southeast</td>\n",
       "      <td>4449.46200</td>\n",
       "    </tr>\n",
       "    <tr>\n",
       "      <th>3</th>\n",
       "      <td>33</td>\n",
       "      <td>male</td>\n",
       "      <td>22.705</td>\n",
       "      <td>0</td>\n",
       "      <td>no</td>\n",
       "      <td>northwest</td>\n",
       "      <td>21984.47061</td>\n",
       "    </tr>\n",
       "    <tr>\n",
       "      <th>4</th>\n",
       "      <td>32</td>\n",
       "      <td>male</td>\n",
       "      <td>28.880</td>\n",
       "      <td>0</td>\n",
       "      <td>no</td>\n",
       "      <td>northwest</td>\n",
       "      <td>3866.85520</td>\n",
       "    </tr>\n",
       "    <tr>\n",
       "      <th>...</th>\n",
       "      <td>...</td>\n",
       "      <td>...</td>\n",
       "      <td>...</td>\n",
       "      <td>...</td>\n",
       "      <td>...</td>\n",
       "      <td>...</td>\n",
       "      <td>...</td>\n",
       "    </tr>\n",
       "    <tr>\n",
       "      <th>1333</th>\n",
       "      <td>50</td>\n",
       "      <td>male</td>\n",
       "      <td>30.970</td>\n",
       "      <td>3</td>\n",
       "      <td>no</td>\n",
       "      <td>northwest</td>\n",
       "      <td>10600.54830</td>\n",
       "    </tr>\n",
       "    <tr>\n",
       "      <th>1334</th>\n",
       "      <td>18</td>\n",
       "      <td>female</td>\n",
       "      <td>31.920</td>\n",
       "      <td>0</td>\n",
       "      <td>no</td>\n",
       "      <td>northeast</td>\n",
       "      <td>2205.98080</td>\n",
       "    </tr>\n",
       "    <tr>\n",
       "      <th>1335</th>\n",
       "      <td>18</td>\n",
       "      <td>female</td>\n",
       "      <td>36.850</td>\n",
       "      <td>0</td>\n",
       "      <td>no</td>\n",
       "      <td>southeast</td>\n",
       "      <td>1629.83350</td>\n",
       "    </tr>\n",
       "    <tr>\n",
       "      <th>1336</th>\n",
       "      <td>21</td>\n",
       "      <td>female</td>\n",
       "      <td>25.800</td>\n",
       "      <td>0</td>\n",
       "      <td>no</td>\n",
       "      <td>southwest</td>\n",
       "      <td>2007.94500</td>\n",
       "    </tr>\n",
       "    <tr>\n",
       "      <th>1337</th>\n",
       "      <td>61</td>\n",
       "      <td>female</td>\n",
       "      <td>29.070</td>\n",
       "      <td>0</td>\n",
       "      <td>yes</td>\n",
       "      <td>northwest</td>\n",
       "      <td>29141.36030</td>\n",
       "    </tr>\n",
       "  </tbody>\n",
       "</table>\n",
       "<p>1338 rows × 7 columns</p>\n",
       "</div>"
      ],
      "text/plain": [
       "      age     sex     bmi  children smoker     region      charges\n",
       "0      19  female  27.900         0    yes  southwest  16884.92400\n",
       "1      18    male  33.770         1     no  southeast   1725.55230\n",
       "2      28    male  33.000         3     no  southeast   4449.46200\n",
       "3      33    male  22.705         0     no  northwest  21984.47061\n",
       "4      32    male  28.880         0     no  northwest   3866.85520\n",
       "...   ...     ...     ...       ...    ...        ...          ...\n",
       "1333   50    male  30.970         3     no  northwest  10600.54830\n",
       "1334   18  female  31.920         0     no  northeast   2205.98080\n",
       "1335   18  female  36.850         0     no  southeast   1629.83350\n",
       "1336   21  female  25.800         0     no  southwest   2007.94500\n",
       "1337   61  female  29.070         0    yes  northwest  29141.36030\n",
       "\n",
       "[1338 rows x 7 columns]"
      ]
     },
     "execution_count": 3,
     "metadata": {},
     "output_type": "execute_result"
    }
   ],
   "source": [
    "df = pd.read_csv('medical_insurance.csv')\n",
    "df"
   ]
  },
  {
   "cell_type": "code",
   "execution_count": 5,
   "id": "229acf25-b477-4b6f-ac5b-aa63b26c6e85",
   "metadata": {},
   "outputs": [
    {
     "name": "stdout",
     "output_type": "stream",
     "text": [
      "<class 'pandas.core.frame.DataFrame'>\n",
      "RangeIndex: 1338 entries, 0 to 1337\n",
      "Data columns (total 7 columns):\n",
      " #   Column    Non-Null Count  Dtype  \n",
      "---  ------    --------------  -----  \n",
      " 0   age       1338 non-null   int64  \n",
      " 1   sex       1338 non-null   object \n",
      " 2   bmi       1338 non-null   float64\n",
      " 3   children  1338 non-null   int64  \n",
      " 4   smoker    1338 non-null   object \n",
      " 5   region    1338 non-null   object \n",
      " 6   charges   1338 non-null   float64\n",
      "dtypes: float64(2), int64(2), object(3)\n",
      "memory usage: 73.3+ KB\n"
     ]
    }
   ],
   "source": [
    "df.info()"
   ]
  },
  {
   "cell_type": "code",
   "execution_count": 7,
   "id": "45df832d-c2da-40f3-a542-0151b9d79f63",
   "metadata": {},
   "outputs": [
    {
     "data": {
      "text/plain": [
       "array(['female', 'male'], dtype=object)"
      ]
     },
     "execution_count": 7,
     "metadata": {},
     "output_type": "execute_result"
    }
   ],
   "source": [
    "df.sex.unique()"
   ]
  },
  {
   "cell_type": "code",
   "execution_count": 9,
   "id": "17094dd3-d0ef-4ce8-a391-9695813c6c2b",
   "metadata": {},
   "outputs": [
    {
     "data": {
      "text/plain": [
       "{'male': 676, 'female': 662}"
      ]
     },
     "execution_count": 9,
     "metadata": {},
     "output_type": "execute_result"
    }
   ],
   "source": [
    "df.sex.value_counts().to_dict()"
   ]
  },
  {
   "cell_type": "code",
   "execution_count": 10,
   "id": "3e34de4f-2dc3-4b7d-8dd9-71384de2a59f",
   "metadata": {},
   "outputs": [
    {
     "data": {
      "text/plain": [
       "{'no': 1064, 'yes': 274}"
      ]
     },
     "execution_count": 10,
     "metadata": {},
     "output_type": "execute_result"
    }
   ],
   "source": [
    "df.smoker.value_counts().to_dict()"
   ]
  },
  {
   "cell_type": "code",
   "execution_count": 11,
   "id": "59196515-6aed-4286-abdd-5bfc4c4807ed",
   "metadata": {},
   "outputs": [
    {
     "data": {
      "text/plain": [
       "array(['southwest', 'southeast', 'northwest', 'northeast'], dtype=object)"
      ]
     },
     "execution_count": 11,
     "metadata": {},
     "output_type": "execute_result"
    }
   ],
   "source": [
    "df.region.unique()"
   ]
  },
  {
   "cell_type": "code",
   "execution_count": 13,
   "id": "fbbceb39-8f76-4b0d-a531-90b32bfb11e3",
   "metadata": {},
   "outputs": [],
   "source": [
    "df.sex.replace({\"male\":1,\"female\":0},inplace=True)\n",
    "df.smoker.replace({\"no\":0,\"yes\":1},inplace=True)"
   ]
  },
  {
   "cell_type": "code",
   "execution_count": 14,
   "id": "34fa8515-88bd-4d30-9a11-5ba2acaf4b4e",
   "metadata": {},
   "outputs": [
    {
     "data": {
      "text/html": [
       "<div>\n",
       "<style scoped>\n",
       "    .dataframe tbody tr th:only-of-type {\n",
       "        vertical-align: middle;\n",
       "    }\n",
       "\n",
       "    .dataframe tbody tr th {\n",
       "        vertical-align: top;\n",
       "    }\n",
       "\n",
       "    .dataframe thead th {\n",
       "        text-align: right;\n",
       "    }\n",
       "</style>\n",
       "<table border=\"1\" class=\"dataframe\">\n",
       "  <thead>\n",
       "    <tr style=\"text-align: right;\">\n",
       "      <th></th>\n",
       "      <th>age</th>\n",
       "      <th>sex</th>\n",
       "      <th>bmi</th>\n",
       "      <th>children</th>\n",
       "      <th>smoker</th>\n",
       "      <th>charges</th>\n",
       "      <th>region_northeast</th>\n",
       "      <th>region_northwest</th>\n",
       "      <th>region_southeast</th>\n",
       "      <th>region_southwest</th>\n",
       "    </tr>\n",
       "  </thead>\n",
       "  <tbody>\n",
       "    <tr>\n",
       "      <th>0</th>\n",
       "      <td>19</td>\n",
       "      <td>0</td>\n",
       "      <td>27.900</td>\n",
       "      <td>0</td>\n",
       "      <td>1</td>\n",
       "      <td>16884.92400</td>\n",
       "      <td>0</td>\n",
       "      <td>0</td>\n",
       "      <td>0</td>\n",
       "      <td>1</td>\n",
       "    </tr>\n",
       "    <tr>\n",
       "      <th>1</th>\n",
       "      <td>18</td>\n",
       "      <td>1</td>\n",
       "      <td>33.770</td>\n",
       "      <td>1</td>\n",
       "      <td>0</td>\n",
       "      <td>1725.55230</td>\n",
       "      <td>0</td>\n",
       "      <td>0</td>\n",
       "      <td>1</td>\n",
       "      <td>0</td>\n",
       "    </tr>\n",
       "    <tr>\n",
       "      <th>2</th>\n",
       "      <td>28</td>\n",
       "      <td>1</td>\n",
       "      <td>33.000</td>\n",
       "      <td>3</td>\n",
       "      <td>0</td>\n",
       "      <td>4449.46200</td>\n",
       "      <td>0</td>\n",
       "      <td>0</td>\n",
       "      <td>1</td>\n",
       "      <td>0</td>\n",
       "    </tr>\n",
       "    <tr>\n",
       "      <th>3</th>\n",
       "      <td>33</td>\n",
       "      <td>1</td>\n",
       "      <td>22.705</td>\n",
       "      <td>0</td>\n",
       "      <td>0</td>\n",
       "      <td>21984.47061</td>\n",
       "      <td>0</td>\n",
       "      <td>1</td>\n",
       "      <td>0</td>\n",
       "      <td>0</td>\n",
       "    </tr>\n",
       "    <tr>\n",
       "      <th>4</th>\n",
       "      <td>32</td>\n",
       "      <td>1</td>\n",
       "      <td>28.880</td>\n",
       "      <td>0</td>\n",
       "      <td>0</td>\n",
       "      <td>3866.85520</td>\n",
       "      <td>0</td>\n",
       "      <td>1</td>\n",
       "      <td>0</td>\n",
       "      <td>0</td>\n",
       "    </tr>\n",
       "    <tr>\n",
       "      <th>...</th>\n",
       "      <td>...</td>\n",
       "      <td>...</td>\n",
       "      <td>...</td>\n",
       "      <td>...</td>\n",
       "      <td>...</td>\n",
       "      <td>...</td>\n",
       "      <td>...</td>\n",
       "      <td>...</td>\n",
       "      <td>...</td>\n",
       "      <td>...</td>\n",
       "    </tr>\n",
       "    <tr>\n",
       "      <th>1333</th>\n",
       "      <td>50</td>\n",
       "      <td>1</td>\n",
       "      <td>30.970</td>\n",
       "      <td>3</td>\n",
       "      <td>0</td>\n",
       "      <td>10600.54830</td>\n",
       "      <td>0</td>\n",
       "      <td>1</td>\n",
       "      <td>0</td>\n",
       "      <td>0</td>\n",
       "    </tr>\n",
       "    <tr>\n",
       "      <th>1334</th>\n",
       "      <td>18</td>\n",
       "      <td>0</td>\n",
       "      <td>31.920</td>\n",
       "      <td>0</td>\n",
       "      <td>0</td>\n",
       "      <td>2205.98080</td>\n",
       "      <td>1</td>\n",
       "      <td>0</td>\n",
       "      <td>0</td>\n",
       "      <td>0</td>\n",
       "    </tr>\n",
       "    <tr>\n",
       "      <th>1335</th>\n",
       "      <td>18</td>\n",
       "      <td>0</td>\n",
       "      <td>36.850</td>\n",
       "      <td>0</td>\n",
       "      <td>0</td>\n",
       "      <td>1629.83350</td>\n",
       "      <td>0</td>\n",
       "      <td>0</td>\n",
       "      <td>1</td>\n",
       "      <td>0</td>\n",
       "    </tr>\n",
       "    <tr>\n",
       "      <th>1336</th>\n",
       "      <td>21</td>\n",
       "      <td>0</td>\n",
       "      <td>25.800</td>\n",
       "      <td>0</td>\n",
       "      <td>0</td>\n",
       "      <td>2007.94500</td>\n",
       "      <td>0</td>\n",
       "      <td>0</td>\n",
       "      <td>0</td>\n",
       "      <td>1</td>\n",
       "    </tr>\n",
       "    <tr>\n",
       "      <th>1337</th>\n",
       "      <td>61</td>\n",
       "      <td>0</td>\n",
       "      <td>29.070</td>\n",
       "      <td>0</td>\n",
       "      <td>1</td>\n",
       "      <td>29141.36030</td>\n",
       "      <td>0</td>\n",
       "      <td>1</td>\n",
       "      <td>0</td>\n",
       "      <td>0</td>\n",
       "    </tr>\n",
       "  </tbody>\n",
       "</table>\n",
       "<p>1338 rows × 10 columns</p>\n",
       "</div>"
      ],
      "text/plain": [
       "      age  sex     bmi  children  smoker      charges  region_northeast  \\\n",
       "0      19    0  27.900         0       1  16884.92400                 0   \n",
       "1      18    1  33.770         1       0   1725.55230                 0   \n",
       "2      28    1  33.000         3       0   4449.46200                 0   \n",
       "3      33    1  22.705         0       0  21984.47061                 0   \n",
       "4      32    1  28.880         0       0   3866.85520                 0   \n",
       "...   ...  ...     ...       ...     ...          ...               ...   \n",
       "1333   50    1  30.970         3       0  10600.54830                 0   \n",
       "1334   18    0  31.920         0       0   2205.98080                 1   \n",
       "1335   18    0  36.850         0       0   1629.83350                 0   \n",
       "1336   21    0  25.800         0       0   2007.94500                 0   \n",
       "1337   61    0  29.070         0       1  29141.36030                 0   \n",
       "\n",
       "      region_northwest  region_southeast  region_southwest  \n",
       "0                    0                 0                 1  \n",
       "1                    0                 1                 0  \n",
       "2                    0                 1                 0  \n",
       "3                    1                 0                 0  \n",
       "4                    1                 0                 0  \n",
       "...                ...               ...               ...  \n",
       "1333                 1                 0                 0  \n",
       "1334                 0                 0                 0  \n",
       "1335                 0                 1                 0  \n",
       "1336                 0                 0                 1  \n",
       "1337                 1                 0                 0  \n",
       "\n",
       "[1338 rows x 10 columns]"
      ]
     },
     "execution_count": 14,
     "metadata": {},
     "output_type": "execute_result"
    }
   ],
   "source": [
    "df = pd.get_dummies(df,columns=[\"region\"])\n",
    "df"
   ]
  },
  {
   "cell_type": "markdown",
   "id": "ff123c96-c4b7-4230-ae14-2582f308984f",
   "metadata": {},
   "source": [
    "# Hold out validation"
   ]
  },
  {
   "cell_type": "code",
   "execution_count": 15,
   "id": "2b1d566d-a39f-403e-97ed-f9c51b1b91cd",
   "metadata": {},
   "outputs": [],
   "source": [
    "x = df.drop('charges',axis=1)\n",
    "y = df.charges"
   ]
  },
  {
   "cell_type": "code",
   "execution_count": 16,
   "id": "44d7e369-8769-48c2-b674-65944e7c62ce",
   "metadata": {},
   "outputs": [],
   "source": [
    "x_train,x_test,y_train,y_test=train_test_split(x,y,test_size=0.2,random_state=34)"
   ]
  },
  {
   "cell_type": "code",
   "execution_count": 17,
   "id": "893b88c7-be65-4853-8862-cf00de581de6",
   "metadata": {},
   "outputs": [
    {
     "data": {
      "text/html": [
       "<div>\n",
       "<style scoped>\n",
       "    .dataframe tbody tr th:only-of-type {\n",
       "        vertical-align: middle;\n",
       "    }\n",
       "\n",
       "    .dataframe tbody tr th {\n",
       "        vertical-align: top;\n",
       "    }\n",
       "\n",
       "    .dataframe thead th {\n",
       "        text-align: right;\n",
       "    }\n",
       "</style>\n",
       "<table border=\"1\" class=\"dataframe\">\n",
       "  <thead>\n",
       "    <tr style=\"text-align: right;\">\n",
       "      <th></th>\n",
       "      <th>age</th>\n",
       "      <th>sex</th>\n",
       "      <th>bmi</th>\n",
       "      <th>children</th>\n",
       "      <th>smoker</th>\n",
       "      <th>region_northeast</th>\n",
       "      <th>region_northwest</th>\n",
       "      <th>region_southeast</th>\n",
       "      <th>region_southwest</th>\n",
       "    </tr>\n",
       "  </thead>\n",
       "  <tbody>\n",
       "    <tr>\n",
       "      <th>414</th>\n",
       "      <td>19</td>\n",
       "      <td>0</td>\n",
       "      <td>35.150</td>\n",
       "      <td>0</td>\n",
       "      <td>0</td>\n",
       "      <td>0</td>\n",
       "      <td>1</td>\n",
       "      <td>0</td>\n",
       "      <td>0</td>\n",
       "    </tr>\n",
       "    <tr>\n",
       "      <th>1279</th>\n",
       "      <td>25</td>\n",
       "      <td>0</td>\n",
       "      <td>26.790</td>\n",
       "      <td>2</td>\n",
       "      <td>0</td>\n",
       "      <td>0</td>\n",
       "      <td>1</td>\n",
       "      <td>0</td>\n",
       "      <td>0</td>\n",
       "    </tr>\n",
       "    <tr>\n",
       "      <th>647</th>\n",
       "      <td>40</td>\n",
       "      <td>0</td>\n",
       "      <td>23.370</td>\n",
       "      <td>3</td>\n",
       "      <td>0</td>\n",
       "      <td>1</td>\n",
       "      <td>0</td>\n",
       "      <td>0</td>\n",
       "      <td>0</td>\n",
       "    </tr>\n",
       "    <tr>\n",
       "      <th>764</th>\n",
       "      <td>45</td>\n",
       "      <td>0</td>\n",
       "      <td>25.175</td>\n",
       "      <td>2</td>\n",
       "      <td>0</td>\n",
       "      <td>1</td>\n",
       "      <td>0</td>\n",
       "      <td>0</td>\n",
       "      <td>0</td>\n",
       "    </tr>\n",
       "    <tr>\n",
       "      <th>1133</th>\n",
       "      <td>52</td>\n",
       "      <td>0</td>\n",
       "      <td>18.335</td>\n",
       "      <td>0</td>\n",
       "      <td>0</td>\n",
       "      <td>0</td>\n",
       "      <td>1</td>\n",
       "      <td>0</td>\n",
       "      <td>0</td>\n",
       "    </tr>\n",
       "    <tr>\n",
       "      <th>...</th>\n",
       "      <td>...</td>\n",
       "      <td>...</td>\n",
       "      <td>...</td>\n",
       "      <td>...</td>\n",
       "      <td>...</td>\n",
       "      <td>...</td>\n",
       "      <td>...</td>\n",
       "      <td>...</td>\n",
       "      <td>...</td>\n",
       "    </tr>\n",
       "    <tr>\n",
       "      <th>453</th>\n",
       "      <td>20</td>\n",
       "      <td>1</td>\n",
       "      <td>29.735</td>\n",
       "      <td>0</td>\n",
       "      <td>0</td>\n",
       "      <td>0</td>\n",
       "      <td>1</td>\n",
       "      <td>0</td>\n",
       "      <td>0</td>\n",
       "    </tr>\n",
       "    <tr>\n",
       "      <th>324</th>\n",
       "      <td>29</td>\n",
       "      <td>1</td>\n",
       "      <td>27.200</td>\n",
       "      <td>0</td>\n",
       "      <td>0</td>\n",
       "      <td>0</td>\n",
       "      <td>0</td>\n",
       "      <td>0</td>\n",
       "      <td>1</td>\n",
       "    </tr>\n",
       "    <tr>\n",
       "      <th>1109</th>\n",
       "      <td>45</td>\n",
       "      <td>1</td>\n",
       "      <td>20.350</td>\n",
       "      <td>3</td>\n",
       "      <td>0</td>\n",
       "      <td>0</td>\n",
       "      <td>0</td>\n",
       "      <td>1</td>\n",
       "      <td>0</td>\n",
       "    </tr>\n",
       "    <tr>\n",
       "      <th>490</th>\n",
       "      <td>19</td>\n",
       "      <td>0</td>\n",
       "      <td>32.900</td>\n",
       "      <td>0</td>\n",
       "      <td>0</td>\n",
       "      <td>0</td>\n",
       "      <td>0</td>\n",
       "      <td>0</td>\n",
       "      <td>1</td>\n",
       "    </tr>\n",
       "    <tr>\n",
       "      <th>1146</th>\n",
       "      <td>60</td>\n",
       "      <td>1</td>\n",
       "      <td>32.800</td>\n",
       "      <td>0</td>\n",
       "      <td>1</td>\n",
       "      <td>0</td>\n",
       "      <td>0</td>\n",
       "      <td>0</td>\n",
       "      <td>1</td>\n",
       "    </tr>\n",
       "  </tbody>\n",
       "</table>\n",
       "<p>1070 rows × 9 columns</p>\n",
       "</div>"
      ],
      "text/plain": [
       "      age  sex     bmi  children  smoker  region_northeast  region_northwest  \\\n",
       "414    19    0  35.150         0       0                 0                 1   \n",
       "1279   25    0  26.790         2       0                 0                 1   \n",
       "647    40    0  23.370         3       0                 1                 0   \n",
       "764    45    0  25.175         2       0                 1                 0   \n",
       "1133   52    0  18.335         0       0                 0                 1   \n",
       "...   ...  ...     ...       ...     ...               ...               ...   \n",
       "453    20    1  29.735         0       0                 0                 1   \n",
       "324    29    1  27.200         0       0                 0                 0   \n",
       "1109   45    1  20.350         3       0                 0                 0   \n",
       "490    19    0  32.900         0       0                 0                 0   \n",
       "1146   60    1  32.800         0       1                 0                 0   \n",
       "\n",
       "      region_southeast  region_southwest  \n",
       "414                  0                 0  \n",
       "1279                 0                 0  \n",
       "647                  0                 0  \n",
       "764                  0                 0  \n",
       "1133                 0                 0  \n",
       "...                ...               ...  \n",
       "453                  0                 0  \n",
       "324                  0                 1  \n",
       "1109                 1                 0  \n",
       "490                  0                 1  \n",
       "1146                 0                 1  \n",
       "\n",
       "[1070 rows x 9 columns]"
      ]
     },
     "execution_count": 17,
     "metadata": {},
     "output_type": "execute_result"
    }
   ],
   "source": [
    "x_train"
   ]
  },
  {
   "cell_type": "markdown",
   "id": "ff11078b-5a5b-4630-bd1a-6919c3ed441b",
   "metadata": {},
   "source": [
    "# Model creation"
   ]
  },
  {
   "cell_type": "code",
   "execution_count": 19,
   "id": "690b425c-750b-43f6-8aa3-9717b7aa793e",
   "metadata": {},
   "outputs": [],
   "source": [
    "model = LinearRegression()"
   ]
  },
  {
   "cell_type": "code",
   "execution_count": 20,
   "id": "126dc74b-32f4-4235-ae97-52478412fc5c",
   "metadata": {},
   "outputs": [
    {
     "data": {
      "text/plain": [
       "LinearRegression()"
      ]
     },
     "execution_count": 20,
     "metadata": {},
     "output_type": "execute_result"
    }
   ],
   "source": [
    "model.fit(x_train,y_train)"
   ]
  },
  {
   "cell_type": "code",
   "execution_count": 21,
   "id": "cf65e37d-5a9a-478f-b199-9557724fdf2c",
   "metadata": {},
   "outputs": [
    {
     "data": {
      "text/plain": [
       "array([ 6.28742129e+03,  8.73545987e+03,  6.74917086e+03,  4.04040565e+03,\n",
       "        7.41547104e+03,  8.68135666e+03,  5.63819787e+03,  9.52584095e+03,\n",
       "        3.60274864e+04,  8.74202976e+03,  5.48794145e+03,  2.11594702e+03,\n",
       "        9.64485286e+03,  7.37749415e+03,  3.87671160e+04,  1.31771917e+04,\n",
       "        3.75134701e+04,  3.51944718e+03,  2.82012755e+03,  2.86152516e+04,\n",
       "        3.00886611e+04,  1.43661944e+04,  1.09760259e+04,  2.55863651e+03,\n",
       "        3.21856559e+04,  9.66485541e+03,  3.22826582e+03,  7.11505066e+03,\n",
       "        5.55007242e+03,  9.37585237e+03,  2.83249950e+03,  3.64074859e+03,\n",
       "        3.56046029e+04,  2.13830883e+03,  3.68994699e+04,  3.24564780e+04,\n",
       "        6.19461909e+03,  3.44257047e+04,  3.25618588e+04,  1.18730500e+04,\n",
       "        3.03715391e+04,  1.25023067e+04,  1.25293851e+03,  1.08528783e+04,\n",
       "        4.00504591e+04,  6.87547027e+03,  8.58827184e+03,  4.39077775e+03,\n",
       "        8.07318952e+03,  2.77303501e+03,  1.13518956e+04,  1.45384360e+04,\n",
       "        1.44601192e+04,  7.03974227e+03,  5.02160544e+03,  8.22109015e+03,\n",
       "        3.02874203e+04,  1.17726283e+04,  3.53388132e+04,  2.95891363e+04,\n",
       "        3.03934215e+03,  9.14376091e+03,  1.48932327e+04,  5.03443329e+03,\n",
       "        1.27559293e+04,  5.60651798e+03,  6.81980250e+03,  2.79104782e+04,\n",
       "        1.55617247e+04,  1.28612395e+04,  3.18154999e+04,  3.93080767e+04,\n",
       "        1.63111756e+04,  1.37329199e+04,  3.50410592e+03,  1.11620740e+04,\n",
       "        2.60459379e+03,  2.92310420e+04,  7.05390062e+03,  4.93736881e+03,\n",
       "        1.43644125e+04,  1.24656956e+04,  2.87679152e+04,  1.14594997e+04,\n",
       "        3.49824800e+04,  1.00375787e+04,  3.16300192e+03,  3.53235260e+04,\n",
       "        3.11813526e+04,  1.14222185e+04,  8.96426350e+03,  1.08965481e+04,\n",
       "       -1.48630800e+03,  3.32221755e+03,  1.09178867e+03,  2.43725778e+03,\n",
       "        2.94566697e+04,  3.35318184e+04,  2.52338946e+04,  3.75071944e+04,\n",
       "        1.06755459e+04,  1.58247215e+04,  5.73255125e+03,  1.55372828e+04,\n",
       "        8.87296622e+03,  4.74777093e+03,  4.65338566e+03,  1.65381518e+04,\n",
       "        6.25746755e+03,  5.85881220e+03,  3.57443962e+03,  1.20381300e+04,\n",
       "        9.26164302e+03,  8.49838217e+03,  2.90718821e+04,  3.89338624e+04,\n",
       "        3.69108633e+04,  1.66483208e+03,  3.21128331e+04,  8.71871909e+03,\n",
       "        1.21728025e+04,  6.51169037e+03,  1.16489712e+04,  3.34021333e+04,\n",
       "       -9.58171747e+01,  3.43119829e+04,  5.18453163e+03,  1.12062667e+04,\n",
       "        1.41555072e+04,  2.85869919e+04,  5.13720336e+03,  2.73815393e+04,\n",
       "        4.32970463e+03,  8.49877344e+03,  9.12832487e+03,  8.12857313e+03,\n",
       "        1.41351601e+03,  3.80410123e+04,  7.26960640e+03,  1.79438330e+03,\n",
       "        1.47589336e+04,  1.30822063e+04,  4.82159022e+03,  1.60640953e+04,\n",
       "        3.85057913e+04,  3.14537308e+03,  8.51020901e+03,  1.20178970e+04,\n",
       "        1.06876565e+04,  1.51897660e+04,  8.93449890e+03,  5.90516952e+03,\n",
       "        5.28884319e+03,  1.03753045e+04,  1.10064872e+04,  1.30973614e+04,\n",
       "        2.63426872e+04,  7.54143275e+03,  7.61260822e+03,  8.29457583e+02,\n",
       "        4.30477102e+03,  1.49672646e+04,  3.61652107e+03,  8.21788653e+03,\n",
       "        3.43628955e+04,  3.28072934e+03,  8.46058095e+03,  1.16140094e+04,\n",
       "        1.02931807e+04,  1.53241692e+04,  2.37761848e+03,  1.17663867e+04,\n",
       "        3.32975045e+04,  1.05588740e+04,  5.43097669e+03,  8.30835268e+03,\n",
       "        2.08656456e+03,  1.25476867e+04,  5.03452841e+03,  4.28123945e+03,\n",
       "        1.69570582e+04,  1.51814267e+04,  1.26577414e+04,  9.20490726e+03,\n",
       "        1.06144549e+04,  3.38410151e+04,  1.02864333e+04,  4.02133204e+04,\n",
       "        3.19010249e+03,  1.01749285e+04,  8.40538892e+03,  7.36320075e+03,\n",
       "        6.24799786e+03,  1.40080291e+03,  1.02694939e+04,  1.04799953e+04,\n",
       "        1.09007467e+04,  1.26814754e+04,  7.92404568e+02,  6.19036168e+03,\n",
       "        3.06262118e+03,  2.53608381e+04,  5.29833976e+03,  1.40128822e+04,\n",
       "        1.14499364e+04,  1.79067117e+04,  1.01310748e+04,  6.22054334e+03,\n",
       "        3.78832013e+04,  1.64254671e+04,  2.85534161e+03,  1.78397259e+04,\n",
       "        4.05632331e+04,  1.10803067e+04,  4.04662032e+03,  3.38061076e+03,\n",
       "        4.26272908e+03,  9.91470721e+03,  1.32167353e+04,  1.69226438e+04,\n",
       "        1.60434914e+04,  9.53900197e+03,  5.22800435e+03,  1.16424014e+04,\n",
       "        1.70208114e+04,  1.01402621e+04,  9.07692395e+03,  6.33890358e+03,\n",
       "        3.92178349e+04,  9.63677237e+03,  3.98079485e+03,  3.18501132e+03,\n",
       "        1.27512769e+04,  8.07715994e+03,  2.84905556e+04,  8.74356174e+03,\n",
       "        1.05329052e+04,  3.38603740e+04,  6.98407169e+03,  1.66413507e+04,\n",
       "        1.24782084e+04,  7.94544272e+03,  8.39740587e+03,  7.65811527e+03,\n",
       "        3.33776131e+04, -2.45924068e+02,  2.29121833e+03,  3.51213433e+04,\n",
       "        2.58154408e+03,  8.11792627e+03,  1.17137216e+03, -1.61170114e+01,\n",
       "        3.41701716e+04,  1.06931774e+04,  9.41391365e+02,  3.69492317e+04,\n",
       "        3.03487534e+04,  2.67106063e+04,  6.10141172e+03,  1.16479482e+04,\n",
       "        1.49232530e+04,  1.70399818e+04,  1.56828701e+04,  1.48496305e+04,\n",
       "        8.11940395e+03,  1.11375792e+04,  3.53854876e+04,  2.93500877e+04])"
      ]
     },
     "execution_count": 21,
     "metadata": {},
     "output_type": "execute_result"
    }
   ],
   "source": [
    "y_pred = model.predict(x_test)\n",
    "y_pred"
   ]
  },
  {
   "cell_type": "code",
   "execution_count": 22,
   "id": "dea010d9-7a91-45d2-8139-967f39c5fa86",
   "metadata": {},
   "outputs": [],
   "source": [
    "mse = mean_squared_error(y_test,y_pred)"
   ]
  },
  {
   "cell_type": "code",
   "execution_count": 23,
   "id": "a9ee321f-cbe8-412a-b3ad-e152b0ccb9fa",
   "metadata": {},
   "outputs": [
    {
     "data": {
      "text/plain": [
       "41587655.82548301"
      ]
     },
     "execution_count": 23,
     "metadata": {},
     "output_type": "execute_result"
    }
   ],
   "source": [
    "mse"
   ]
  },
  {
   "cell_type": "code",
   "execution_count": 24,
   "id": "4ceef6b3-62c1-4332-9cd4-d21a20a2f2dc",
   "metadata": {},
   "outputs": [
    {
     "data": {
      "text/plain": [
       "0.7442111491697808"
      ]
     },
     "execution_count": 24,
     "metadata": {},
     "output_type": "execute_result"
    }
   ],
   "source": [
    "r2_value = r2_score(y_test,y_pred)\n",
    "r2_value"
   ]
  },
  {
   "cell_type": "code",
   "execution_count": 25,
   "id": "9681aff3-c2c1-4b0e-ad2a-e80cf1e92398",
   "metadata": {},
   "outputs": [
    {
     "data": {
      "text/plain": [
       "LinearRegression()"
      ]
     },
     "execution_count": 25,
     "metadata": {},
     "output_type": "execute_result"
    }
   ],
   "source": [
    "model = LinearRegression()\n",
    "model.fit(x,y)"
   ]
  },
  {
   "cell_type": "code",
   "execution_count": 26,
   "id": "53c79680-b92f-4554-bde4-f13ba1edf805",
   "metadata": {},
   "outputs": [
    {
     "data": {
      "text/plain": [
       "Index(['age', 'sex', 'bmi', 'children', 'smoker', 'charges',\n",
       "       'region_northeast', 'region_northwest', 'region_southeast',\n",
       "       'region_southwest'],\n",
       "      dtype='object')"
      ]
     },
     "execution_count": 26,
     "metadata": {},
     "output_type": "execute_result"
    }
   ],
   "source": [
    "df.columns \n"
   ]
  },
  {
   "cell_type": "code",
   "execution_count": 28,
   "id": "042418e5-0028-4ecf-8d77-5b9600314a0d",
   "metadata": {},
   "outputs": [],
   "source": [
    "age = 19\n",
    "sex = 'male'\n",
    "bmi = 27.9\n",
    "children = 2\n",
    "smoker = 'yes'\n",
    "region = 'northeast'\n",
    "\n",
    "# charges = ?"
   ]
  },
  {
   "cell_type": "code",
   "execution_count": 31,
   "id": "8f7b2845-2e78-4666-833a-908515728c61",
   "metadata": {},
   "outputs": [],
   "source": [
    "project_data = {'sex':{'female':0,'male':1},\n",
    "                'smoker':{'no':0,'yes':1}}\n",
    "\n",
    "region = \"region_\"+region\n",
    "\n",
    "index = np.where(x.columns==region)"
   ]
  },
  {
   "cell_type": "code",
   "execution_count": 32,
   "id": "ae1422c4-cf5c-4444-b11a-c2047c1f81bd",
   "metadata": {},
   "outputs": [
    {
     "data": {
      "text/plain": [
       "array([0., 0., 0., 0., 0., 0., 0., 0., 0.])"
      ]
     },
     "execution_count": 32,
     "metadata": {},
     "output_type": "execute_result"
    }
   ],
   "source": [
    "test_array = np.zeros(len(x.columns))\n",
    "test_array"
   ]
  },
  {
   "cell_type": "code",
   "execution_count": 33,
   "id": "358d8e90-101c-4281-9f93-90caf6ff75b6",
   "metadata": {},
   "outputs": [],
   "source": [
    "test_array[0] = age\n",
    "test_array[1] = project_data['sex'][sex]\n",
    "test_array[2] = bmi\n",
    "test_array[3] = children\n",
    "test_array[4] = project_data['smoker'][smoker]\n",
    "test_array[index] = 1"
   ]
  },
  {
   "cell_type": "code",
   "execution_count": 34,
   "id": "686a9a0e-5777-450b-af60-daab123e2abe",
   "metadata": {},
   "outputs": [
    {
     "data": {
      "text/plain": [
       "array([19. ,  1. , 27.9,  2. ,  1. ,  1. ,  0. ,  0. ,  0. ])"
      ]
     },
     "execution_count": 34,
     "metadata": {},
     "output_type": "execute_result"
    }
   ],
   "source": [
    "test_array"
   ]
  },
  {
   "cell_type": "code",
   "execution_count": 36,
   "id": "48ae381b-3db7-43fb-8cc1-3cff55e00ad3",
   "metadata": {},
   "outputs": [],
   "source": [
    "y_prediction = model.predict([test_array])"
   ]
  },
  {
   "cell_type": "code",
   "execution_count": 40,
   "id": "1ad71d7a-8281-4fd0-b9e4-68983b5e9739",
   "metadata": {},
   "outputs": [
    {
     "data": {
      "text/plain": [
       "'predicted charges are : 27073.45'"
      ]
     },
     "execution_count": 40,
     "metadata": {},
     "output_type": "execute_result"
    }
   ],
   "source": [
    "f\"predicted charges are : {round(y_prediction[0],2)}\""
   ]
  },
  {
   "cell_type": "code",
   "execution_count": 41,
   "id": "3ee7df0e-5550-4f0b-a5f0-94bb469cdf41",
   "metadata": {},
   "outputs": [],
   "source": [
    "import pickle\n",
    "import json"
   ]
  },
  {
   "cell_type": "code",
   "execution_count": 42,
   "id": "bf269557-4e43-49c6-8bb6-270e849ec367",
   "metadata": {},
   "outputs": [],
   "source": [
    "with open('Linear_Model.pkl','wb') as f:\n",
    "    pickle.dump(model,f)"
   ]
  },
  {
   "cell_type": "code",
   "execution_count": 44,
   "id": "09bb84a5-c0db-40d8-8c01-99b2148be0ca",
   "metadata": {},
   "outputs": [],
   "source": [
    "pd.DataFrame(project_data).to_json('random.json')"
   ]
  },
  {
   "cell_type": "code",
   "execution_count": 45,
   "id": "fd484f5e-9f35-4ad5-a220-b3111deab4b0",
   "metadata": {},
   "outputs": [],
   "source": [
    "with open('project_data.json','w') as f:\n",
    "    json.dump(project_data,f)"
   ]
  },
  {
   "cell_type": "code",
   "execution_count": 48,
   "id": "94492dad-d8db-4352-91a7-84de725d0c66",
   "metadata": {},
   "outputs": [],
   "source": [
    "list1 = [2,3,4]\n",
    "with open('List1.pkl','wb') as f:\n",
    "    pickle.dump(list1,f)"
   ]
  },
  {
   "cell_type": "code",
   "execution_count": 1,
   "id": "5420595b-9836-4578-a8f5-9429bb995946",
   "metadata": {},
   "outputs": [],
   "source": [
    "\n",
    "columns =['age', 'sex', 'bmi', 'children', 'smoker', 'charges',\n",
    "'region_northeast', 'region_northwest', 'region_southeast',\n",
    "'region_southwest']"
   ]
  },
  {
   "cell_type": "code",
   "execution_count": 3,
   "id": "0fd9dff3",
   "metadata": {},
   "outputs": [
    {
     "data": {
      "text/plain": [
       "'region_southeast'"
      ]
     },
     "execution_count": 3,
     "metadata": {},
     "output_type": "execute_result"
    }
   ],
   "source": [
    "region = 'southeast'\n",
    "region = 'region_' +region\n",
    "region"
   ]
  },
  {
   "cell_type": "code",
   "execution_count": 8,
   "id": "dcc765a3",
   "metadata": {},
   "outputs": [
    {
     "data": {
      "text/plain": [
       "8"
      ]
     },
     "execution_count": 8,
     "metadata": {},
     "output_type": "execute_result"
    }
   ],
   "source": [
    "columns.index(region)"
   ]
  },
  {
   "cell_type": "code",
   "execution_count": 1,
   "id": "cc295055",
   "metadata": {},
   "outputs": [
    {
     "data": {
      "text/plain": [
       "'c:\\\\Users\\\\Pratik\\\\End_to_End_Project\\\\Satyajit\\\\Project2\\\\Project_app'"
      ]
     },
     "execution_count": 1,
     "metadata": {},
     "output_type": "execute_result"
    }
   ],
   "source": [
    "import os\n",
    "os.getcwd()"
   ]
  },
  {
   "cell_type": "code",
   "execution_count": 2,
   "id": "d78c7184",
   "metadata": {},
   "outputs": [
    {
     "data": {
      "text/plain": [
       "'Project_app\\\\Linear_Model.pkl'"
      ]
     },
     "execution_count": 2,
     "metadata": {},
     "output_type": "execute_result"
    }
   ],
   "source": [
    "os.path.join('Project_app','Linear_Model.pkl')"
   ]
  },
  {
   "cell_type": "code",
   "execution_count": null,
   "id": "761244d2",
   "metadata": {},
   "outputs": [],
   "source": []
  }
 ],
 "metadata": {
  "kernelspec": {
   "display_name": "developement",
   "language": "python",
   "name": "python3"
  },
  "language_info": {
   "codemirror_mode": {
    "name": "ipython",
    "version": 3
   },
   "file_extension": ".py",
   "mimetype": "text/x-python",
   "name": "python",
   "nbconvert_exporter": "python",
   "pygments_lexer": "ipython3",
   "version": "3.10.6 | packaged by conda-forge | (main, Oct 24 2022, 16:02:16) [MSC v.1916 64 bit (AMD64)]"
  },
  "vscode": {
   "interpreter": {
    "hash": "14bb84b53f4edff2b14539f7ede262399caa0e0ef17376249adfec66dc646ba0"
   }
  }
 },
 "nbformat": 4,
 "nbformat_minor": 5
}
